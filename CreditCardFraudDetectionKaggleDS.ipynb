{
  "nbformat": 4,
  "nbformat_minor": 0,
  "metadata": {
    "colab": {
      "name": "CreditCardFraudDetectionKaggleDS.ipynb",
      "version": "0.3.2",
      "provenance": [],
      "collapsed_sections": [],
      "toc_visible": true,
      "include_colab_link": true
    },
    "kernelspec": {
      "name": "python3",
      "display_name": "Python 3"
    }
  },
  "cells": [
    {
      "cell_type": "markdown",
      "metadata": {
        "id": "view-in-github",
        "colab_type": "text"
      },
      "source": [
        "<a href=\"https://colab.research.google.com/github/MarcinWylot/CreditCardFraudDetectionKaggleDS/blob/master/CreditCardFraudDetectionKaggleDS.ipynb\" target=\"_parent\"><img src=\"https://colab.research.google.com/assets/colab-badge.svg\" alt=\"Open In Colab\"/></a>"
      ]
    },
    {
      "metadata": {
        "id": "p7ORVdyQluC9",
        "colab_type": "code",
        "colab": {}
      },
      "cell_type": "code",
      "source": [
        "import numpy as np\n",
        "import pandas as pd \n",
        "import matplotlib.pyplot as plt\n",
        "import seaborn as sns \n",
        "from sklearn.metrics import classification_report, accuracy_score, roc_auc_score\n",
        "from sklearn.model_selection import train_test_split\n",
        "from sklearn.preprocessing import StandardScaler"
      ],
      "execution_count": 0,
      "outputs": []
    },
    {
      "metadata": {
        "id": "skq9kg0-SKQB",
        "colab_type": "code",
        "colab": {
          "base_uri": "https://localhost:8080/",
          "height": 34
        },
        "outputId": "9d9184bd-2e83-42f8-838c-dcbd63cd0980"
      },
      "cell_type": "code",
      "source": [
        "#from google.colab import files\n",
        "#uploaded = files.upload()\n",
        "\n",
        "!pip install -U -q PyDrive\n",
        "\n",
        "from pydrive.auth import GoogleAuth\n",
        "from pydrive.drive import GoogleDrive\n",
        "from google.colab import auth\n",
        "from oauth2client.client import GoogleCredentials\n",
        "\n",
        "# 1. Authenticate and create the PyDrive client.\n",
        "auth.authenticate_user()\n",
        "gauth = GoogleAuth()\n",
        "gauth.credentials = GoogleCredentials.get_application_default()\n",
        "drive = GoogleDrive(gauth)\n",
        "\n",
        "# PyDrive reference:\n",
        "# https://googledrive.github.io/PyDrive/docs/build/html/index.html\n",
        "\n",
        "# 2. Create & upload a file text file.\n",
        "#uploaded = drive.CreateFile({'title': 'Sample upload.txt'})\n",
        "#uploaded.SetContentString('Sample upload file content')\n",
        "#uploaded.Upload()\n",
        "#print('Uploaded file with ID {}'.format(uploaded.get('id')))\n",
        "\n",
        "# 3. Load a file by ID and print its contents.\n",
        "downloaded = drive.CreateFile({'id': '1QQara53mzPKgRO4poTIWtQ2Ijm3GcqkV'})\n",
        "#print('Downloaded content \"{}\"'.format(downloaded.GetContentString()))\n",
        "downloaded.GetContentFile('./creditcard.csv')\n",
        "!ls\n"
      ],
      "execution_count": 3,
      "outputs": [
        {
          "output_type": "stream",
          "text": [
            "adc.json  creditcard.csv  sample_data\n"
          ],
          "name": "stdout"
        }
      ]
    },
    {
      "metadata": {
        "id": "pc4ClwU49BKg",
        "colab_type": "code",
        "colab": {
          "base_uri": "https://localhost:8080/",
          "height": 34
        },
        "outputId": "f03d8430-be30-4108-d1fc-fb5c42ea7dc9"
      },
      "cell_type": "code",
      "source": [
        "data = pd.read_csv('./creditcard.csv')\n",
        "data = data.drop(['Time'], axis=1)\n",
        "data['Amount'] = StandardScaler().fit_transform(data['Amount'].values.reshape(-1, 1))\n",
        "#data.describe()\n",
        "X_train_full, X_test = train_test_split(data, test_size=0.2, random_state=0)\n",
        "\n",
        "#X_train = data[data.Class == 0]\n",
        "X_train = X_train_full\n",
        "y_train = X_train['Class']\n",
        "X_train = X_train.drop(['Class'], axis=1)\n",
        "#X_train = X_train.values\n",
        "\n",
        "y_test = X_test['Class']\n",
        "X_test = X_test.drop(['Class'], axis=1)\n",
        "#X_test = X_test.values\n",
        "\n",
        "\n",
        "fraud = X_train_full[X_train_full['Class'] == 1]\n",
        "valid = X_train_full[X_train_full['Class'] == 0]\n",
        "\n",
        "fraud_fraction = len(fraud) / float(len(valid))\n",
        "print(fraud_fraction)"
      ],
      "execution_count": 4,
      "outputs": [
        {
          "output_type": "stream",
          "text": [
            "0.0017190289025473282\n"
          ],
          "name": "stdout"
        }
      ]
    },
    {
      "metadata": {
        "id": "TheFqdB3g5I_",
        "colab_type": "code",
        "colab": {
          "base_uri": "https://localhost:8080/",
          "height": 152
        },
        "outputId": "3f5888e8-0bd5-44f8-a287-d0b3bab77cb8"
      },
      "cell_type": "code",
      "source": [
        "from sklearn.ensemble import IsolationForest\n",
        "clf_IsolationForest = IsolationForest(max_samples = len(X_test), contamination = fraud_fraction, random_state=1)\n",
        "\n",
        "clf_IsolationForest.fit(X_train)\n",
        "y_IsolationForest = clf_IsolationForest.predict(X_test)\n",
        "\n",
        "y_IsolationForest[y_IsolationForest == 1] = 0\n",
        "y_IsolationForest[y_IsolationForest == -1] = 1\n",
        "\n",
        "print(accuracy_score(y_test,y_IsolationForest))\n",
        "print(classification_report(y_test,y_IsolationForest))"
      ],
      "execution_count": 5,
      "outputs": [
        {
          "output_type": "stream",
          "text": [
            "0.9976475545100242\n",
            "             precision    recall  f1-score   support\n",
            "\n",
            "          0       1.00      1.00      1.00     56861\n",
            "          1       0.33      0.33      0.33       101\n",
            "\n",
            "avg / total       1.00      1.00      1.00     56962\n",
            "\n"
          ],
          "name": "stdout"
        }
      ]
    },
    {
      "metadata": {
        "id": "YnH8VSrCg5WW",
        "colab_type": "code",
        "colab": {
          "base_uri": "https://localhost:8080/",
          "height": 152
        },
        "outputId": "ee676fc4-0f25-4e5f-ecf4-04b500e8236f"
      },
      "cell_type": "code",
      "source": [
        "#it's not the best method to test unseen data \n",
        "from sklearn.neighbors import LocalOutlierFactor\n",
        "clf_LocalOutlierFactor = LocalOutlierFactor(n_neighbors=20, contamination = fraud_fraction)\n",
        "\n",
        "clf_LocalOutlierFactor.fit(X_train)\n",
        "y_LocalOutlierFactor = clf_LocalOutlierFactor._decision_function(X_test)\n",
        "\n",
        "threshold = np.histogram(y_LocalOutlierFactor,bins=2)[1][1]\n",
        "\n",
        "y_pred = np.zeros(X_test.shape[0], dtype=int)\n",
        "y_pred[y_LocalOutlierFactor < threshold] = 1\n",
        "\n",
        "      \n",
        "print(accuracy_score(y_test,y_pred)) \n",
        "print(classification_report(y_test,y_pred))"
      ],
      "execution_count": 6,
      "outputs": [
        {
          "output_type": "stream",
          "text": [
            "0.9981039991573329\n",
            "             precision    recall  f1-score   support\n",
            "\n",
            "          0       1.00      1.00      1.00     56861\n",
            "          1       0.00      0.00      0.00       101\n",
            "\n",
            "avg / total       1.00      1.00      1.00     56962\n",
            "\n"
          ],
          "name": "stdout"
        }
      ]
    },
    {
      "metadata": {
        "id": "B8PsT4htilFX",
        "colab_type": "code",
        "colab": {
          "base_uri": "https://localhost:8080/",
          "height": 50
        },
        "outputId": "b1686087-0a0d-41bb-da94-7850cd50e253"
      },
      "cell_type": "code",
      "source": [
        "#https://medium.com/@curiousily/credit-card-fraud-detection-using-autoencoders-in-keras-tensorflow-for-hackers-part-vii-20e0c85301bd\n",
        "from keras.models import Model, load_model\n",
        "from keras.layers import Input, Dense\n",
        "from keras.callbacks import ModelCheckpoint, TensorBoard\n",
        "from keras import regularizers\n",
        "\n",
        "X_train = X_train_full[X_train_full.Class == 0] #we tain the model on normal transaction only \n",
        "y_train = X_train['Class']\n",
        "X_train = X_train.drop(['Class'], axis=1)\n",
        "X_train = X_train.values\n",
        "\n",
        "input_dim = X_train.shape[1]\n",
        "encoding_dim = 14\n",
        "\n",
        "input_layer = Input(shape=(input_dim, ))\n",
        "encoder = Dense(encoding_dim, activation=\"tanh\", \n",
        "                activity_regularizer=regularizers.l1(10e-5))(input_layer)\n",
        "encoder = Dense(int(encoding_dim / 2), activation=\"relu\")(encoder)\n",
        "decoder = Dense(int(encoding_dim / 2), activation='tanh')(encoder)\n",
        "decoder = Dense(input_dim, activation='relu')(decoder)\n",
        "autoencoder = Model(inputs=input_layer, outputs=decoder)\n",
        "\n",
        "\n",
        "nb_epoch = 20\n",
        "batch_size = 32\n",
        "autoencoder.compile(optimizer='adam', \n",
        "                    loss='mean_squared_error', \n",
        "                    metrics=['accuracy'])\n",
        "checkpointer = ModelCheckpoint(filepath=\"model.h5\",\n",
        "                               verbose=0,\n",
        "                               save_best_only=True)\n",
        "tensorboard = TensorBoard(log_dir='./logs',\n",
        "                          histogram_freq=0,\n",
        "                          write_graph=True,\n",
        "                          write_images=True)\n",
        "history = autoencoder.fit(X_train, X_train,\n",
        "                    epochs=nb_epoch,\n",
        "                    batch_size=batch_size,\n",
        "                    shuffle=True,\n",
        "                    validation_data=(X_test, X_test),\n",
        "                    verbose=0,\n",
        "                    callbacks=[checkpointer, tensorboard]).history\n",
        "\n",
        "\n",
        "predictions = autoencoder.predict(X_test)\n",
        "\n",
        "mse = np.mean(np.power(X_test - predictions, 2), axis=1)\n",
        "error_df = pd.DataFrame({'reconstruction_error': mse,\n",
        "                        'true_class': y_test})\n",
        "\n",
        "print(np.histogram(error_df.reconstruction_error.values,bins=4))\n"
      ],
      "execution_count": 7,
      "outputs": [
        {
          "output_type": "stream",
          "text": [
            "(array([56960,     1,     0,     1]), array([6.13694879e-02, 4.04979290e+02, 8.09897210e+02, 1.21481513e+03,\n",
            "       1.61973305e+03]))\n"
          ],
          "name": "stdout"
        }
      ]
    },
    {
      "metadata": {
        "id": "4Y25AARLhgaI",
        "colab_type": "code",
        "colab": {
          "base_uri": "https://localhost:8080/",
          "height": 364
        },
        "outputId": "ebbab96d-d0f7-405e-a8e8-98019ad72bf7"
      },
      "cell_type": "code",
      "source": [
        "error_df[error_df['true_class'] == 1].reconstruction_error.hist()"
      ],
      "execution_count": 23,
      "outputs": [
        {
          "output_type": "execute_result",
          "data": {
            "text/plain": [
              "<matplotlib.axes._subplots.AxesSubplot at 0x7fc43cf15940>"
            ]
          },
          "metadata": {
            "tags": []
          },
          "execution_count": 23
        },
        {
          "output_type": "display_data",
          "data": {
            "image/png": "[encoded data removed]",
            "text/plain": [
              "<matplotlib.figure.Figure at 0x7fc43cf6e588>"
            ]
          },
          "metadata": {
            "tags": []
          }
        }
      ]
    },
    {
      "metadata": {
        "id": "_FMUAjHlh8t7",
        "colab_type": "code",
        "colab": {
          "base_uri": "https://localhost:8080/",
          "height": 397
        },
        "outputId": "86ef37c9-ddff-46f3-f31e-56eb9338d518"
      },
      "cell_type": "code",
      "source": [
        "error_df[error_df['true_class'] == 0][error_df['reconstruction_error'] < 10].reconstruction_error.hist()"
      ],
      "execution_count": 31,
      "outputs": [
        {
          "output_type": "stream",
          "text": [
            "/usr/local/lib/python3.6/dist-packages/ipykernel_launcher.py:1: UserWarning: Boolean Series key will be reindexed to match DataFrame index.\n",
            "  \"\"\"Entry point for launching an IPython kernel.\n"
          ],
          "name": "stderr"
        },
        {
          "output_type": "execute_result",
          "data": {
            "text/plain": [
              "<matplotlib.axes._subplots.AxesSubplot at 0x7fc43ac47da0>"
            ]
          },
          "metadata": {
            "tags": []
          },
          "execution_count": 31
        },
        {
          "output_type": "display_data",
          "data": {
            "image/png": "[encoded data removed]",
            "text/plain": [
              "<matplotlib.figure.Figure at 0x7fc43abe03c8>"
            ]
          },
          "metadata": {
            "tags": []
          }
        }
      ]
    },
    {
      "metadata": {
        "id": "mVhL5tbYyyCz",
        "colab_type": "code",
        "colab": {
          "base_uri": "https://localhost:8080/",
          "height": 6145
        },
        "outputId": "5cbed3e2-41df-49ad-a418-ea6a4634ec46"
      },
      "cell_type": "code",
      "source": [
        "threshold_range = 20\n",
        "for threshold in np.linspace(0,threshold_range,threshold_range*2):\n",
        "  y_pred = np.zeros(X_test.shape[0], dtype=int)\n",
        "  y_pred[error_df.reconstruction_error.values > threshold] = 1\n",
        "\n",
        "  print(\"threshold:\", threshold)\n",
        "  print(\"roc_auc_score:\", roc_auc_score(y_test, y_pred)) \n",
        "  print(classification_report(y_test,y_pred))"
      ],
      "execution_count": 39,
      "outputs": [
        {
          "output_type": "stream",
          "text": [
            "threshold: 0.0\n",
            "roc_auc_score: 0.5\n",
            "             precision    recall  f1-score   support\n",
            "\n",
            "          0       0.00      0.00      0.00     56861\n",
            "          1       0.00      1.00      0.00       101\n",
            "\n",
            "avg / total       0.00      0.00      0.00     56962\n",
            "\n",
            "threshold: 0.5128205128205128\n",
            "roc_auc_score: 0.7942886953263307\n",
            "             precision    recall  f1-score   support\n",
            "\n",
            "          0       1.00      0.64      0.78     56861\n",
            "          1       0.00      0.95      0.01       101\n",
            "\n",
            "avg / total       1.00      0.64      0.78     56962\n",
            "\n",
            "threshold: 1.0256410256410255\n",
            "roc_auc_score: 0.9080404690193786\n",
            "             precision    recall  f1-score   support\n",
            "\n",
            "          0       1.00      0.91      0.95     56861\n",
            "          1       0.02      0.91      0.03       101\n",
            "\n",
            "avg / total       1.00      0.91      0.95     56962\n",
            "\n",
            "threshold: 1.5384615384615383\n",
            "roc_auc_score: 0.9054736746427496\n",
            "             precision    recall  f1-score   support\n",
            "\n",
            "          0       1.00      0.95      0.97     56861\n",
            "          1       0.03      0.86      0.06       101\n",
            "\n",
            "avg / total       1.00      0.95      0.97     56962\n",
            "\n",
            "threshold: 2.051282051282051\n",
            "roc_auc_score: 0.9132118431589558\n",
            "             precision    recall  f1-score   support\n",
            "\n",
            "          0       1.00      0.97      0.98     56861\n",
            "          1       0.04      0.86      0.08       101\n",
            "\n",
            "avg / total       1.00      0.96      0.98     56962\n",
            "\n",
            "threshold: 2.564102564102564\n",
            "roc_auc_score: 0.9122535395939481\n",
            "             precision    recall  f1-score   support\n",
            "\n",
            "          0       1.00      0.97      0.99     56861\n",
            "          1       0.05      0.85      0.10       101\n",
            "\n",
            "avg / total       1.00      0.97      0.98     56962\n",
            "\n",
            "threshold: 3.0769230769230766\n",
            "roc_auc_score: 0.9097036354591298\n",
            "             precision    recall  f1-score   support\n",
            "\n",
            "          0       1.00      0.98      0.99     56861\n",
            "          1       0.06      0.84      0.12       101\n",
            "\n",
            "avg / total       1.00      0.98      0.99     56962\n",
            "\n",
            "threshold: 3.5897435897435894\n",
            "roc_auc_score: 0.901570113396208\n",
            "             precision    recall  f1-score   support\n",
            "\n",
            "          0       1.00      0.98      0.99     56861\n",
            "          1       0.07      0.82      0.13       101\n",
            "\n",
            "avg / total       1.00      0.98      0.99     56962\n",
            "\n",
            "threshold: 4.102564102564102\n",
            "roc_auc_score: 0.8683147944065788\n"
          ],
          "name": "stdout"
        },
        {
          "output_type": "stream",
          "text": [
            "/usr/local/lib/python3.6/dist-packages/sklearn/metrics/classification.py:1135: UndefinedMetricWarning: Precision and F-score are ill-defined and being set to 0.0 in labels with no predicted samples.\n",
            "  'precision', 'predicted', average, warn_for)\n"
          ],
          "name": "stderr"
        },
        {
          "output_type": "stream",
          "text": [
            "             precision    recall  f1-score   support\n",
            "\n",
            "          0       1.00      0.98      0.99     56861\n",
            "          1       0.08      0.75      0.14       101\n",
            "\n",
            "avg / total       1.00      0.98      0.99     56962\n",
            "\n",
            "threshold: 4.615384615384615\n",
            "roc_auc_score: 0.8298451791680286\n",
            "             precision    recall  f1-score   support\n",
            "\n",
            "          0       1.00      0.99      0.99     56861\n",
            "          1       0.08      0.67      0.14       101\n",
            "\n",
            "avg / total       1.00      0.99      0.99     56962\n",
            "\n",
            "threshold: 5.128205128205128\n",
            "roc_auc_score: 0.8207004191740115\n",
            "             precision    recall  f1-score   support\n",
            "\n",
            "          0       1.00      0.99      0.99     56861\n",
            "          1       0.09      0.65      0.15       101\n",
            "\n",
            "avg / total       1.00      0.99      0.99     56962\n",
            "\n",
            "threshold: 5.6410256410256405\n",
            "roc_auc_score: 0.806297396064504\n",
            "             precision    recall  f1-score   support\n",
            "\n",
            "          0       1.00      0.99      0.99     56861\n",
            "          1       0.09      0.62      0.16       101\n",
            "\n",
            "avg / total       1.00      0.99      0.99     56962\n",
            "\n",
            "threshold: 6.153846153846153\n",
            "roc_auc_score: 0.8067986183433946\n",
            "             precision    recall  f1-score   support\n",
            "\n",
            "          0       1.00      0.99      0.99     56861\n",
            "          1       0.10      0.62      0.17       101\n",
            "\n",
            "avg / total       1.00      0.99      0.99     56962\n",
            "\n",
            "threshold: 6.666666666666666\n",
            "roc_auc_score: 0.8025252130390578\n",
            "             precision    recall  f1-score   support\n",
            "\n",
            "          0       1.00      0.99      1.00     56861\n",
            "          1       0.11      0.61      0.19       101\n",
            "\n",
            "avg / total       1.00      0.99      0.99     56962\n",
            "\n",
            "threshold: 7.179487179487179\n",
            "roc_auc_score: 0.8028945347182403\n",
            "             precision    recall  f1-score   support\n",
            "\n",
            "          0       1.00      0.99      1.00     56861\n",
            "          1       0.12      0.61      0.20       101\n",
            "\n",
            "avg / total       1.00      0.99      0.99     56962\n",
            "\n",
            "threshold: 7.692307692307692\n",
            "roc_auc_score: 0.7933188994318436\n",
            "             precision    recall  f1-score   support\n",
            "\n",
            "          0       1.00      0.99      1.00     56861\n",
            "          1       0.12      0.59      0.21       101\n",
            "\n",
            "avg / total       1.00      0.99      0.99     56962\n",
            "\n",
            "threshold: 8.205128205128204\n",
            "roc_auc_score: 0.7936178741245152\n",
            "             precision    recall  f1-score   support\n",
            "\n",
            "          0       1.00      0.99      1.00     56861\n",
            "          1       0.13      0.59      0.22       101\n",
            "\n",
            "avg / total       1.00      0.99      0.99     56962\n",
            "\n",
            "threshold: 8.717948717948717\n",
            "roc_auc_score: 0.7889399736477403\n",
            "             precision    recall  f1-score   support\n",
            "\n",
            "          0       1.00      0.99      1.00     56861\n",
            "          1       0.14      0.58      0.23       101\n",
            "\n",
            "avg / total       1.00      0.99      1.00     56962\n",
            "\n",
            "threshold: 9.23076923076923\n",
            "roc_auc_score: 0.7892653284603536\n",
            "             precision    recall  f1-score   support\n",
            "\n",
            "          0       1.00      0.99      1.00     56861\n",
            "          1       0.16      0.58      0.25       101\n",
            "\n",
            "avg / total       1.00      0.99      1.00     56962\n",
            "\n",
            "threshold: 9.743589743589743\n",
            "roc_auc_score: 0.7745721240314882\n",
            "             precision    recall  f1-score   support\n",
            "\n",
            "          0       1.00      0.99      1.00     56861\n",
            "          1       0.16      0.55      0.24       101\n",
            "\n",
            "avg / total       1.00      0.99      1.00     56962\n",
            "\n",
            "threshold: 10.256410256410255\n",
            "roc_auc_score: 0.7648733815186974\n",
            "             precision    recall  f1-score   support\n",
            "\n",
            "          0       1.00      1.00      1.00     56861\n",
            "          1       0.16      0.53      0.25       101\n",
            "\n",
            "avg / total       1.00      0.99      1.00     56962\n",
            "\n",
            "threshold: 10.769230769230768\n",
            "roc_auc_score: 0.7651283893447997\n",
            "             precision    recall  f1-score   support\n",
            "\n",
            "          0       1.00      1.00      1.00     56861\n",
            "          1       0.18      0.53      0.27       101\n",
            "\n",
            "avg / total       1.00      0.99      1.00     56962\n",
            "\n",
            "threshold: 11.282051282051281\n",
            "roc_auc_score: 0.7504263915426206\n",
            "             precision    recall  f1-score   support\n",
            "\n",
            "          0       1.00      1.00      1.00     56861\n",
            "          1       0.18      0.50      0.26       101\n",
            "\n",
            "avg / total       1.00      1.00      1.00     56962\n",
            "\n",
            "threshold: 11.794871794871794\n",
            "roc_auc_score: 0.7356540467539305\n",
            "             precision    recall  f1-score   support\n",
            "\n",
            "          0       1.00      1.00      1.00     56861\n",
            "          1       0.18      0.48      0.26       101\n",
            "\n",
            "avg / total       1.00      1.00      1.00     56962\n",
            "\n",
            "threshold: 12.307692307692307\n",
            "roc_auc_score: 0.7258409903880594\n",
            "             precision    recall  f1-score   support\n",
            "\n",
            "          0       1.00      1.00      1.00     56861\n",
            "          1       0.18      0.46      0.25       101\n",
            "\n",
            "avg / total       1.00      1.00      1.00     56962\n",
            "\n",
            "threshold: 12.82051282051282\n",
            "roc_auc_score: 0.7209696356983792\n",
            "             precision    recall  f1-score   support\n",
            "\n",
            "          0       1.00      1.00      1.00     56861\n",
            "          1       0.18      0.45      0.26       101\n",
            "\n",
            "avg / total       1.00      1.00      1.00     56962\n",
            "\n",
            "threshold: 13.333333333333332\n",
            "roc_auc_score: 0.7211015362980873\n",
            "             precision    recall  f1-score   support\n",
            "\n",
            "          0       1.00      1.00      1.00     56861\n",
            "          1       0.19      0.45      0.27       101\n",
            "\n",
            "avg / total       1.00      1.00      1.00     56962\n",
            "\n",
            "threshold: 13.846153846153845\n",
            "roc_auc_score: 0.7161950081151518\n",
            "             precision    recall  f1-score   support\n",
            "\n",
            "          0       1.00      1.00      1.00     56861\n",
            "          1       0.19      0.44      0.27       101\n",
            "\n",
            "avg / total       1.00      1.00      1.00     56962\n",
            "\n",
            "threshold: 14.358974358974358\n",
            "roc_auc_score: 0.6964897550235845\n",
            "             precision    recall  f1-score   support\n",
            "\n",
            "          0       1.00      1.00      1.00     56861\n",
            "          1       0.19      0.40      0.25       101\n",
            "\n",
            "avg / total       1.00      1.00      1.00     56962\n",
            "\n",
            "threshold: 14.87179487179487\n",
            "roc_auc_score: 0.6916096069605905\n",
            "             precision    recall  f1-score   support\n",
            "\n",
            "          0       1.00      1.00      1.00     56861\n",
            "          1       0.19      0.39      0.25       101\n",
            "\n",
            "avg / total       1.00      1.00      1.00     56962\n",
            "\n",
            "threshold: 15.384615384615383\n",
            "roc_auc_score: 0.6767845019320172\n",
            "             precision    recall  f1-score   support\n",
            "\n",
            "          0       1.00      1.00      1.00     56861\n",
            "          1       0.18      0.36      0.24       101\n",
            "\n",
            "avg / total       1.00      1.00      1.00     56962\n",
            "\n",
            "threshold: 15.897435897435896\n",
            "roc_auc_score: 0.6768812290384698\n",
            "             precision    recall  f1-score   support\n",
            "\n",
            "          0       1.00      1.00      1.00     56861\n",
            "          1       0.19      0.36      0.25       101\n",
            "\n",
            "avg / total       1.00      1.00      1.00     56962\n",
            "\n",
            "threshold: 16.41025641025641\n",
            "roc_auc_score: 0.6769603693982946\n",
            "             precision    recall  f1-score   support\n",
            "\n",
            "          0       1.00      1.00      1.00     56861\n",
            "          1       0.20      0.36      0.26       101\n",
            "\n",
            "avg / total       1.00      1.00      1.00     56962\n",
            "\n",
            "threshold: 16.92307692307692\n",
            "roc_auc_score: 0.6720714279619867\n",
            "             precision    recall  f1-score   support\n",
            "\n",
            "          0       1.00      1.00      1.00     56861\n",
            "          1       0.20      0.35      0.26       101\n",
            "\n",
            "avg / total       1.00      1.00      1.00     56962\n",
            "\n",
            "threshold: 17.435897435897434\n",
            "roc_auc_score: 0.6621880246096047\n",
            "             precision    recall  f1-score   support\n",
            "\n",
            "          0       1.00      1.00      1.00     56861\n",
            "          1       0.20      0.33      0.25       101\n",
            "\n",
            "avg / total       1.00      1.00      1.00     56962\n",
            "\n",
            "threshold: 17.94871794871795\n",
            "roc_auc_score: 0.6622231981028602\n",
            "             precision    recall  f1-score   support\n",
            "\n",
            "          0       1.00      1.00      1.00     56861\n",
            "          1       0.20      0.33      0.25       101\n",
            "\n",
            "avg / total       1.00      1.00      1.00     56962\n",
            "\n",
            "threshold: 18.46153846153846\n",
            "roc_auc_score: 0.6623199252093128\n",
            "             precision    recall  f1-score   support\n",
            "\n",
            "          0       1.00      1.00      1.00     56861\n",
            "          1       0.22      0.33      0.26       101\n",
            "\n",
            "avg / total       1.00      1.00      1.00     56962\n",
            "\n",
            "threshold: 18.97435897435897\n",
            "roc_auc_score: 0.6623638920758822\n",
            "             precision    recall  f1-score   support\n",
            "\n",
            "          0       1.00      1.00      1.00     56861\n",
            "          1       0.22      0.33      0.27       101\n",
            "\n",
            "avg / total       1.00      1.00      1.00     56962\n",
            "\n",
            "threshold: 19.487179487179485\n",
            "roc_auc_score: 0.6623990655691376\n",
            "             precision    recall  f1-score   support\n",
            "\n",
            "          0       1.00      1.00      1.00     56861\n",
            "          1       0.23      0.33      0.27       101\n",
            "\n",
            "avg / total       1.00      1.00      1.00     56962\n",
            "\n",
            "threshold: 20.0\n",
            "roc_auc_score: 0.6624254456890792\n",
            "             precision    recall  f1-score   support\n",
            "\n",
            "          0       1.00      1.00      1.00     56861\n",
            "          1       0.24      0.33      0.27       101\n",
            "\n",
            "avg / total       1.00      1.00      1.00     56962\n",
            "\n"
          ],
          "name": "stdout"
        }
      ]
    }
  ]
}