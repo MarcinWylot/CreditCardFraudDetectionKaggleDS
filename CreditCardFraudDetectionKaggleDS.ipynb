{
  "nbformat": 4,
  "nbformat_minor": 0,
  "metadata": {
    "colab": {
      "name": "CreditCardFraudDetectionKaggleDS.ipynb",
      "version": "0.3.2",
      "provenance": [],
      "collapsed_sections": [],
      "toc_visible": true,
      "include_colab_link": true
    },
    "kernelspec": {
      "name": "python3",
      "display_name": "Python 3"
    }
  },
  "cells": [
    {
      "cell_type": "markdown",
      "metadata": {
        "id": "view-in-github",
        "colab_type": "text"
      },
      "source": [
        "[View in Colaboratory](https://colab.research.google.com/github/MarcinWylot/CreditCardFraudDetectionKaggleDS/blob/master/CreditCardFraudDetectionKaggleDS.ipynb)"
      ]
    },
    {
      "metadata": {
        "id": "p7ORVdyQluC9",
        "colab_type": "code",
        "colab": {}
      },
      "cell_type": "code",
      "source": [
        "import numpy as np\n",
        "import pandas as pd \n",
        "import matplotlib.pyplot as plt\n",
        "import seaborn as sns \n",
        "from sklearn.metrics import classification_report, accuracy_score\n",
        "from sklearn.model_selection import train_test_split"
      ],
      "execution_count": 0,
      "outputs": []
    },
    {
      "metadata": {
        "id": "skq9kg0-SKQB",
        "colab_type": "code",
        "colab": {
          "base_uri": "https://localhost:8080/",
          "height": 17
        },
        "outputId": "f34b3df7-c5f8-4ada-a87c-f00a0f3faec1"
      },
      "cell_type": "code",
      "source": [
        "#from google.colab import files\n",
        "#uploaded = files.upload()\n",
        "\n",
        "!pip install -U -q PyDrive\n",
        "\n",
        "from pydrive.auth import GoogleAuth\n",
        "from pydrive.drive import GoogleDrive\n",
        "from google.colab import auth\n",
        "from oauth2client.client import GoogleCredentials\n",
        "\n",
        "# 1. Authenticate and create the PyDrive client.\n",
        "auth.authenticate_user()\n",
        "gauth = GoogleAuth()\n",
        "gauth.credentials = GoogleCredentials.get_application_default()\n",
        "drive = GoogleDrive(gauth)\n",
        "\n",
        "# PyDrive reference:\n",
        "# https://googledrive.github.io/PyDrive/docs/build/html/index.html\n",
        "\n",
        "# 2. Create & upload a file text file.\n",
        "#uploaded = drive.CreateFile({'title': 'Sample upload.txt'})\n",
        "#uploaded.SetContentString('Sample upload file content')\n",
        "#uploaded.Upload()\n",
        "#print('Uploaded file with ID {}'.format(uploaded.get('id')))\n",
        "\n",
        "# 3. Load a file by ID and print its contents.\n",
        "downloaded = drive.CreateFile({'id': '1QQara53mzPKgRO4poTIWtQ2Ijm3GcqkV'})\n",
        "#print('Downloaded content \"{}\"'.format(downloaded.GetContentString()))\n",
        "downloaded.GetContentFile('./creditcard.csv')\n",
        "!ls\n"
      ],
      "execution_count": 4,
      "outputs": []
    },
    {
      "metadata": {
        "id": "pc4ClwU49BKg",
        "colab_type": "code",
        "colab": {
          "base_uri": "https://localhost:8080/",
          "height": 34
        },
        "outputId": "d42beb3d-5362-4671-bc13-3cea41bb0886"
      },
      "cell_type": "code",
      "source": [
        "data = pd.read_csv('./creditcard.csv')\n",
        "data = data.drop(['Time'], axis=1)\n",
        "#data.describe()\n",
        "X_train_full, X_test = train_test_split(data, test_size=0.2, random_state=0)\n",
        "\n",
        "#X_train = data[data.Class == 0]\n",
        "X_train = X_train_full\n",
        "y_train = X_train['Class']\n",
        "X_train = X_train.drop(['Class'], axis=1)\n",
        "#X_train = X_train.values\n",
        "\n",
        "y_test = X_test['Class']\n",
        "X_test = X_test.drop(['Class'], axis=1)\n",
        "#X_test = X_test.values\n",
        "\n",
        "\n",
        "fraud = X_train_full[X_train_full['Class'] == 1]\n",
        "valid = X_train_full[X_train_full['Class'] == 0]\n",
        "\n",
        "fraud_fraction = len(fraud) / float(len(valid))\n",
        "print(fraud_fraction)"
      ],
      "execution_count": 7,
      "outputs": [
        {
          "output_type": "stream",
          "text": [
            "0.0017190289025473282\n"
          ],
          "name": "stdout"
        }
      ]
    },
    {
      "metadata": {
        "id": "c7Swr_xNF3vu",
        "colab_type": "code",
        "colab": {
          "base_uri": "https://localhost:8080/",
          "height": 37
        },
        "outputId": "d4bf6dc8-730f-4342-d2c8-614ac4e9fb6c"
      },
      "cell_type": "code",
      "source": [
        "#data.hist(figsize=(20,20))\n",
        "#plt.show()\n"
      ],
      "execution_count": 3,
      "outputs": []
    },
    {
      "metadata": {
        "id": "lLdazJGBMBSv",
        "colab_type": "code",
        "colab": {}
      },
      "cell_type": "code",
      "source": [
        "#fig = plt.figure(figsize = (12,8))\n",
        "#sns.heatmap(data.corr(), vmax=.8, square=True)\n",
        "#plt.show()"
      ],
      "execution_count": 0,
      "outputs": []
    },
    {
      "metadata": {
        "id": "lFgY59roMxq2",
        "colab_type": "code",
        "colab": {}
      },
      "cell_type": "code",
      "source": [
        "#from sklearn.preprocessing import StandardScaler\n",
        "\n",
        "#data['Amount'] = StandardScaler().fit_transform(data['Amount'].values.reshape(-1, 1))\n",
        "\n",
        "#columns = [c for c in X_train.columns.tolist() if c not in [\"Class\"]]\n",
        "\n",
        "#X = X_train[columns]\n",
        "#Y = X_train[\"Class\"]\n",
        "\n",
        "#print(X.shape, Y.shape)"
      ],
      "execution_count": 0,
      "outputs": []
    },
    {
      "metadata": {
        "id": "TheFqdB3g5I_",
        "colab_type": "code",
        "colab": {
          "base_uri": "https://localhost:8080/",
          "height": 153
        },
        "outputId": "c092c7bc-318d-4954-88dd-daaea90e80e0"
      },
      "cell_type": "code",
      "source": [
        "from sklearn.ensemble import IsolationForest\n",
        "clf_IsolationForest = IsolationForest(max_samples = len(X_test), contamination = fraud_fraction, random_state=1)\n",
        "\n",
        "clf_IsolationForest.fit(X_train)\n",
        "y_IsolationForest = clf_IsolationForest.predict(X_test)\n",
        "\n",
        "y_IsolationForest[y_IsolationForest == 1] = 0\n",
        "y_IsolationForest[y_IsolationForest == -1] = 1\n",
        "\n",
        "print(accuracy_score(y_test,y_IsolationForest))\n",
        "print(classification_report(y_test,y_IsolationForest))"
      ],
      "execution_count": 67,
      "outputs": [
        {
          "output_type": "stream",
          "text": [
            "0.9976475545100242\n",
            "             precision    recall  f1-score   support\n",
            "\n",
            "          0       1.00      1.00      1.00     56861\n",
            "          1       0.33      0.33      0.33       101\n",
            "\n",
            "avg / total       1.00      1.00      1.00     56962\n",
            "\n"
          ],
          "name": "stdout"
        }
      ]
    },
    {
      "metadata": {
        "id": "YnH8VSrCg5WW",
        "colab_type": "code",
        "colab": {
          "base_uri": "https://localhost:8080/",
          "height": 51
        },
        "outputId": "39feb6e3-b2f4-43f0-d0f4-2fc2dd53f181"
      },
      "cell_type": "code",
      "source": [
        "#it's not the best method to test unseen data \n",
        "from sklearn.neighbors import LocalOutlierFactor\n",
        "clf_LocalOutlierFactor = LocalOutlierFactor(n_neighbors=20, contamination = fraud_fraction)\n",
        "\n",
        "clf_LocalOutlierFactor.fit(X_train)\n",
        "y_LocalOutlierFactor = clf_LocalOutlierFactor._decision_function(X_test)\n",
        "\n",
        "print(y_LocalOutlierFactor)\n",
        "#y_LocalOutlierFactor[y_LocalOutlierFactor == 1] = 0\n",
        "#y_LocalOutlierFactor[y_LocalOutlierFactor == -1] = 1\n",
        "\n",
        "#print(accuracy_score(y_test,y_LocalOutlierFactor))\n",
        "#print(classification_report(y_test,y_LocalOutlierFactor))"
      ],
      "execution_count": 8,
      "outputs": [
        {
          "output_type": "stream",
          "text": [
            "[-1.09656393 -1.41517926 -1.35353435 ... -1.08916324 -1.74549618\n",
            " -1.01231912]\n"
          ],
          "name": "stdout"
        }
      ]
    },
    {
      "metadata": {
        "id": "QeUb0j2mnkVh",
        "colab_type": "code",
        "colab": {}
      },
      "cell_type": "code",
      "source": [
        "y_LocalOutlierFactor = clf_LocalOutlierFactor._decision_function(X_train)"
      ],
      "execution_count": 0,
      "outputs": []
    },
    {
      "metadata": {
        "id": "qxs3Am2gWW4p",
        "colab_type": "code",
        "colab": {
          "base_uri": "https://localhost:8080/",
          "height": 238
        },
        "outputId": "f3734b02-98cc-41be-8a12-349f50717376"
      },
      "cell_type": "code",
      "source": [
        "threshold = -2.3\n",
        "\n",
        "print(np.histogram(y_LocalOutlierFactor,bins=10))\n",
        "#plt.plot(y_LocalOutlierFactor)\n",
        "#plt.show()\n",
        "\n",
        "y_pred = [1 if e < threshold else 0 for e in y_LocalOutlierFactor]\n",
        "print(y_LocalOutlierFactor)\n",
        "#print(y_test.tolist())\n",
        "#plt.plot(y_pred)\n",
        "#plt.plot(y_test)\n",
        "plt.show()\n",
        "#plt.hist(y_LocalOutlierFactor, bins=10) \n",
        "#plt.show()\n",
        "print(classification_report(y_test.tolist(),y_pred))"
      ],
      "execution_count": 63,
      "outputs": [
        {
          "output_type": "stream",
          "text": [
            "(array([    1,     3,     8,     0,     5,    15,    14,     8,     9,\n",
            "       56899]), array([-1.68557162e+10, -1.51701446e+10, -1.34845730e+10, -1.17990014e+10,\n",
            "       -1.01134297e+10, -8.42785812e+09, -6.74228650e+09, -5.05671487e+09,\n",
            "       -3.37114325e+09, -1.68557163e+09, -8.87050612e-01]))\n",
            "[-1.09656393 -1.41517926 -1.35353435 ... -1.08916324 -1.74549618\n",
            " -1.01231912]\n",
            "             precision    recall  f1-score   support\n",
            "\n",
            "          0       1.00      0.99      1.00     56861\n",
            "          1       0.05      0.16      0.07       101\n",
            "\n",
            "avg / total       1.00      0.99      0.99     56962\n",
            "\n"
          ],
          "name": "stdout"
        }
      ]
    },
    {
      "metadata": {
        "id": "B8PsT4htilFX",
        "colab_type": "code",
        "colab": {
          "base_uri": "https://localhost:8080/",
          "height": 3454
        },
        "outputId": "6f9e8b71-8dcb-49dd-ecb9-cd6ca0b985e4"
      },
      "cell_type": "code",
      "source": [
        "#https://medium.com/@curiousily/credit-card-fraud-detection-using-autoencoders-in-keras-tensorflow-for-hackers-part-vii-20e0c85301bd\n",
        "from keras.models import Model, load_model\n",
        "from keras.layers import Input, Dense\n",
        "from keras.callbacks import ModelCheckpoint, TensorBoard\n",
        "from keras import regularizers\n",
        "\n",
        "\n",
        "\n",
        "data['Amount'] = StandardScaler().fit_transform(data['Amount'].values.reshape(-1, 1))\n",
        "\n",
        "X_train = X_train_full[X_train_full.Class == 0] #we tain the model on normal transaction only \n",
        "y_train = X_train['Class']\n",
        "X_train = X_train.drop(['Class'], axis=1)\n",
        "X_train = X_train.values\n",
        "\n",
        "input_dim = X_train.shape[1]\n",
        "encoding_dim = 14\n",
        "\n",
        "input_layer = Input(shape=(input_dim, ))\n",
        "encoder = Dense(encoding_dim, activation=\"tanh\", \n",
        "                activity_regularizer=regularizers.l1(10e-5))(input_layer)\n",
        "encoder = Dense(int(encoding_dim / 2), activation=\"relu\")(encoder)\n",
        "decoder = Dense(int(encoding_dim / 2), activation='tanh')(encoder)\n",
        "decoder = Dense(input_dim, activation='relu')(decoder)\n",
        "autoencoder = Model(inputs=input_layer, outputs=decoder)\n",
        "\n",
        "\n",
        "nb_epoch = 20\n",
        "batch_size = 32\n",
        "autoencoder.compile(optimizer='adam', \n",
        "                    loss='mean_squared_error', \n",
        "                    metrics=['accuracy'])\n",
        "checkpointer = ModelCheckpoint(filepath=\"model.h5\",\n",
        "                               verbose=0,\n",
        "                               save_best_only=True)\n",
        "tensorboard = TensorBoard(log_dir='./logs',\n",
        "                          histogram_freq=0,\n",
        "                          write_graph=True,\n",
        "                          write_images=True)\n",
        "history = autoencoder.fit(X_train, X_train,\n",
        "                    epochs=nb_epoch,\n",
        "                    batch_size=batch_size,\n",
        "                    shuffle=True,\n",
        "                    validation_data=(X_test, X_test),\n",
        "                    verbose=1,\n",
        "                    callbacks=[checkpointer, tensorboard]).history"
      ],
      "execution_count": 57,
      "outputs": [
        {
          "output_type": "stream",
          "text": [
            "Train on 284315 samples, validate on 56962 samples\n",
            "Epoch 1/100\n",
            "284315/284315 [==============================] - 15s 54us/step - loss: 0.7991 - acc: 0.5911 - val_loss: 0.7769 - val_acc: 0.6398\n",
            "Epoch 2/100\n",
            "216352/284315 [=====================>........] - ETA: 3s - loss: 0.7465 - acc: 0.6487"
          ],
          "name": "stdout"
        },
        {
          "output_type": "stream",
          "text": [
            "284315/284315 [==============================] - 15s 52us/step - loss: 0.7391 - acc: 0.6502 - val_loss: 0.7642 - val_acc: 0.6524\n",
            "Epoch 3/100\n",
            "284315/284315 [==============================] - 15s 52us/step - loss: 0.7305 - acc: 0.6617 - val_loss: 0.7580 - val_acc: 0.6672\n",
            "Epoch 4/100\n",
            " 95872/284315 [=========>....................] - ETA: 8s - loss: 0.7209 - acc: 0.6646"
          ],
          "name": "stdout"
        },
        {
          "output_type": "stream",
          "text": [
            "284315/284315 [==============================] - 15s 52us/step - loss: 0.7255 - acc: 0.6674 - val_loss: 0.7551 - val_acc: 0.6621\n",
            "Epoch 5/100\n",
            "284315/284315 [==============================] - 15s 52us/step - loss: 0.7217 - acc: 0.6782 - val_loss: 0.7521 - val_acc: 0.6826\n",
            "Epoch 6/100\n",
            " 71200/284315 [======>.......................] - ETA: 10s - loss: 0.7075 - acc: 0.6835"
          ],
          "name": "stdout"
        },
        {
          "output_type": "stream",
          "text": [
            "284315/284315 [==============================] - 15s 52us/step - loss: 0.7192 - acc: 0.6898 - val_loss: 0.7487 - val_acc: 0.6905\n",
            "Epoch 7/100\n",
            "284315/284315 [==============================] - 15s 52us/step - loss: 0.7173 - acc: 0.6990 - val_loss: 0.7490 - val_acc: 0.6909\n",
            "Epoch 8/100\n",
            " 63520/284315 [=====>........................] - ETA: 10s - loss: 0.7315 - acc: 0.7014"
          ],
          "name": "stdout"
        },
        {
          "output_type": "stream",
          "text": [
            "284315/284315 [==============================] - 15s 53us/step - loss: 0.7157 - acc: 0.7020 - val_loss: 0.7455 - val_acc: 0.6972\n",
            "Epoch 9/100\n",
            "284315/284315 [==============================] - 15s 52us/step - loss: 0.7147 - acc: 0.7034 - val_loss: 0.7459 - val_acc: 0.6941\n",
            "Epoch 10/100\n",
            " 59936/284315 [=====>........................] - ETA: 10s - loss: 0.7178 - acc: 0.7028"
          ],
          "name": "stdout"
        },
        {
          "output_type": "stream",
          "text": [
            "284315/284315 [==============================] - 15s 52us/step - loss: 0.7139 - acc: 0.7045 - val_loss: 0.7450 - val_acc: 0.6947\n",
            "Epoch 11/100\n",
            "284315/284315 [==============================] - 15s 54us/step - loss: 0.7132 - acc: 0.7054 - val_loss: 0.7442 - val_acc: 0.6994\n",
            "Epoch 12/100\n",
            " 50944/284315 [====>.........................] - ETA: 11s - loss: 0.7129 - acc: 0.7056"
          ],
          "name": "stdout"
        },
        {
          "output_type": "stream",
          "text": [
            "284315/284315 [==============================] - 15s 54us/step - loss: 0.7125 - acc: 0.7068 - val_loss: 0.7422 - val_acc: 0.7074\n",
            "Epoch 13/100\n",
            "284315/284315 [==============================] - 15s 54us/step - loss: 0.7118 - acc: 0.7066 - val_loss: 0.7405 - val_acc: 0.7021\n",
            "Epoch 14/100\n",
            " 47968/284315 [====>.........................] - ETA: 11s - loss: 0.6969 - acc: 0.7080"
          ],
          "name": "stdout"
        },
        {
          "output_type": "stream",
          "text": [
            "284315/284315 [==============================] - 15s 53us/step - loss: 0.7114 - acc: 0.7072 - val_loss: 0.7406 - val_acc: 0.7066\n",
            "Epoch 15/100\n",
            "284315/284315 [==============================] - 15s 54us/step - loss: 0.7107 - acc: 0.7083 - val_loss: 0.7400 - val_acc: 0.7081\n",
            "Epoch 16/100\n",
            " 48736/284315 [====>.........................] - ETA: 11s - loss: 0.6877 - acc: 0.7100"
          ],
          "name": "stdout"
        },
        {
          "output_type": "stream",
          "text": [
            "284315/284315 [==============================] - 15s 53us/step - loss: 0.7103 - acc: 0.7092 - val_loss: 0.7398 - val_acc: 0.6989\n",
            "Epoch 17/100\n",
            "284315/284315 [==============================] - 15s 53us/step - loss: 0.7105 - acc: 0.7091 - val_loss: 0.7400 - val_acc: 0.7044\n",
            "Epoch 18/100\n",
            " 50560/284315 [====>.........................] - ETA: 11s - loss: 0.7014 - acc: 0.7084"
          ],
          "name": "stdout"
        },
        {
          "output_type": "stream",
          "text": [
            "284315/284315 [==============================] - 15s 53us/step - loss: 0.7098 - acc: 0.7103 - val_loss: 0.7385 - val_acc: 0.7087\n",
            "Epoch 19/100\n",
            "284315/284315 [==============================] - 15s 53us/step - loss: 0.7092 - acc: 0.7120 - val_loss: 0.7420 - val_acc: 0.7023\n",
            "Epoch 20/100\n",
            " 54112/284315 [====>.........................] - ETA: 11s - loss: 0.7017 - acc: 0.7121"
          ],
          "name": "stdout"
        },
        {
          "output_type": "stream",
          "text": [
            "284315/284315 [==============================] - 15s 52us/step - loss: 0.7088 - acc: 0.7124 - val_loss: 0.7362 - val_acc: 0.7142\n",
            "Epoch 21/100\n",
            "284315/284315 [==============================] - 15s 53us/step - loss: 0.7089 - acc: 0.7117 - val_loss: 0.7370 - val_acc: 0.7102\n",
            "Epoch 22/100\n",
            " 53024/284315 [====>.........................] - ETA: 11s - loss: 0.7174 - acc: 0.7122"
          ],
          "name": "stdout"
        },
        {
          "output_type": "stream",
          "text": [
            "284315/284315 [==============================] - 15s 53us/step - loss: 0.7085 - acc: 0.7122 - val_loss: 0.7374 - val_acc: 0.7098\n",
            "Epoch 23/100\n",
            "284315/284315 [==============================] - 15s 53us/step - loss: 0.7082 - acc: 0.7131 - val_loss: 0.7373 - val_acc: 0.7074\n",
            "Epoch 24/100\n",
            " 53504/284315 [====>.........................] - ETA: 11s - loss: 0.7148 - acc: 0.7111"
          ],
          "name": "stdout"
        },
        {
          "output_type": "stream",
          "text": [
            "284315/284315 [==============================] - 15s 53us/step - loss: 0.7079 - acc: 0.7130 - val_loss: 0.7369 - val_acc: 0.7124\n",
            "Epoch 25/100\n",
            "284315/284315 [==============================] - 15s 53us/step - loss: 0.7082 - acc: 0.7124 - val_loss: 0.7364 - val_acc: 0.7106\n",
            "Epoch 26/100\n",
            " 53248/284315 [====>.........................] - ETA: 11s - loss: 0.7047 - acc: 0.7165"
          ],
          "name": "stdout"
        },
        {
          "output_type": "stream",
          "text": [
            "284315/284315 [==============================] - 15s 53us/step - loss: 0.7086 - acc: 0.7121 - val_loss: 0.7356 - val_acc: 0.7087\n",
            "Epoch 27/100\n",
            "284315/284315 [==============================] - 15s 53us/step - loss: 0.7079 - acc: 0.7122 - val_loss: 0.7355 - val_acc: 0.7112\n",
            "Epoch 28/100\n",
            " 52064/284315 [====>.........................] - ETA: 11s - loss: 0.6964 - acc: 0.7120"
          ],
          "name": "stdout"
        },
        {
          "output_type": "stream",
          "text": [
            "284315/284315 [==============================] - 15s 53us/step - loss: 0.7075 - acc: 0.7130 - val_loss: 0.7492 - val_acc: 0.6986\n",
            "Epoch 29/100\n",
            "284315/284315 [==============================] - 15s 52us/step - loss: 0.7074 - acc: 0.7133 - val_loss: 0.7365 - val_acc: 0.7160\n",
            "Epoch 30/100\n",
            " 59040/284315 [=====>........................] - ETA: 10s - loss: 0.7176 - acc: 0.7140"
          ],
          "name": "stdout"
        },
        {
          "output_type": "stream",
          "text": [
            "284315/284315 [==============================] - 15s 52us/step - loss: 0.7075 - acc: 0.7133 - val_loss: 0.7398 - val_acc: 0.7137\n",
            "Epoch 31/100\n",
            "284315/284315 [==============================] - 15s 52us/step - loss: 0.7073 - acc: 0.7133 - val_loss: 0.7391 - val_acc: 0.7091\n",
            "Epoch 32/100\n",
            " 60160/284315 [=====>........................] - ETA: 10s - loss: 0.7110 - acc: 0.7142"
          ],
          "name": "stdout"
        },
        {
          "output_type": "stream",
          "text": [
            "284315/284315 [==============================] - 15s 52us/step - loss: 0.7072 - acc: 0.7133 - val_loss: 0.7362 - val_acc: 0.7031\n",
            "Epoch 33/100\n",
            "284315/284315 [==============================] - 15s 52us/step - loss: 0.7073 - acc: 0.7133 - val_loss: 0.7368 - val_acc: 0.7135\n",
            "Epoch 34/100\n",
            " 59616/284315 [=====>........................] - ETA: 11s - loss: 0.7057 - acc: 0.7134"
          ],
          "name": "stdout"
        },
        {
          "output_type": "stream",
          "text": [
            "284315/284315 [==============================] - 15s 52us/step - loss: 0.7072 - acc: 0.7131 - val_loss: 0.7366 - val_acc: 0.7150\n",
            "Epoch 35/100\n",
            "284315/284315 [==============================] - 15s 52us/step - loss: 0.7071 - acc: 0.7138 - val_loss: 0.7346 - val_acc: 0.7134\n",
            "Epoch 36/100\n",
            " 62656/284315 [=====>........................] - ETA: 10s - loss: 0.7109 - acc: 0.7140"
          ],
          "name": "stdout"
        },
        {
          "output_type": "stream",
          "text": [
            "284315/284315 [==============================] - 15s 52us/step - loss: 0.7069 - acc: 0.7138 - val_loss: 0.7344 - val_acc: 0.7149\n",
            "Epoch 37/100\n",
            "284315/284315 [==============================] - 15s 52us/step - loss: 0.7069 - acc: 0.7139 - val_loss: 0.7365 - val_acc: 0.7089\n",
            "Epoch 38/100\n",
            " 63232/284315 [=====>........................] - ETA: 10s - loss: 0.6918 - acc: 0.7124"
          ],
          "name": "stdout"
        },
        {
          "output_type": "stream",
          "text": [
            "284315/284315 [==============================] - 15s 52us/step - loss: 0.7068 - acc: 0.7128 - val_loss: 0.7377 - val_acc: 0.7109\n",
            "Epoch 39/100\n",
            "284315/284315 [==============================] - 15s 51us/step - loss: 0.7071 - acc: 0.7138 - val_loss: 0.7355 - val_acc: 0.7123\n",
            "Epoch 40/100\n",
            " 62560/284315 [=====>........................] - ETA: 10s - loss: 0.6991 - acc: 0.7139"
          ],
          "name": "stdout"
        },
        {
          "output_type": "stream",
          "text": [
            "284315/284315 [==============================] - 15s 52us/step - loss: 0.7067 - acc: 0.7142 - val_loss: 0.7497 - val_acc: 0.6997\n",
            "Epoch 41/100\n",
            "284315/284315 [==============================] - 15s 52us/step - loss: 0.7069 - acc: 0.7132 - val_loss: 0.7389 - val_acc: 0.7154\n",
            "Epoch 42/100\n",
            " 62592/284315 [=====>........................] - ETA: 10s - loss: 0.7098 - acc: 0.7125"
          ],
          "name": "stdout"
        },
        {
          "output_type": "stream",
          "text": [
            "284315/284315 [==============================] - 15s 52us/step - loss: 0.7069 - acc: 0.7137 - val_loss: 0.7367 - val_acc: 0.7126\n",
            "Epoch 43/100\n",
            "284315/284315 [==============================] - 15s 52us/step - loss: 0.7069 - acc: 0.7133 - val_loss: 0.7357 - val_acc: 0.7134\n",
            "Epoch 44/100\n",
            " 61376/284315 [=====>........................] - ETA: 10s - loss: 0.7051 - acc: 0.7114"
          ],
          "name": "stdout"
        },
        {
          "output_type": "stream",
          "text": [
            "284315/284315 [==============================] - 15s 52us/step - loss: 0.7068 - acc: 0.7138 - val_loss: 0.7376 - val_acc: 0.7000\n",
            "Epoch 45/100\n",
            "284315/284315 [==============================] - 15s 52us/step - loss: 0.7068 - acc: 0.7139 - val_loss: 0.7342 - val_acc: 0.7115\n",
            "Epoch 46/100\n",
            " 60544/284315 [=====>........................] - ETA: 10s - loss: 0.7305 - acc: 0.7135"
          ],
          "name": "stdout"
        },
        {
          "output_type": "stream",
          "text": [
            "284315/284315 [==============================] - 15s 52us/step - loss: 0.7065 - acc: 0.7132 - val_loss: 0.7347 - val_acc: 0.7087\n",
            "Epoch 47/100\n",
            "284315/284315 [==============================] - 15s 52us/step - loss: 0.7069 - acc: 0.7133 - val_loss: 0.7369 - val_acc: 0.7138\n",
            "Epoch 48/100\n",
            " 59136/284315 [=====>........................] - ETA: 10s - loss: 0.6948 - acc: 0.7162"
          ],
          "name": "stdout"
        },
        {
          "output_type": "stream",
          "text": [
            "284315/284315 [==============================] - 15s 52us/step - loss: 0.7066 - acc: 0.7133 - val_loss: 0.7351 - val_acc: 0.7137\n",
            "Epoch 49/100\n",
            "284315/284315 [==============================] - 15s 52us/step - loss: 0.7068 - acc: 0.7132 - val_loss: 0.7340 - val_acc: 0.7097\n",
            "Epoch 50/100\n",
            " 61888/284315 [=====>........................] - ETA: 10s - loss: 0.7087 - acc: 0.7123"
          ],
          "name": "stdout"
        },
        {
          "output_type": "stream",
          "text": [
            "284315/284315 [==============================] - 15s 52us/step - loss: 0.7065 - acc: 0.7139 - val_loss: 0.7351 - val_acc: 0.7154\n",
            "Epoch 51/100\n",
            "284315/284315 [==============================] - 15s 52us/step - loss: 0.7068 - acc: 0.7140 - val_loss: 0.7343 - val_acc: 0.7156\n",
            "Epoch 52/100\n",
            " 62976/284315 [=====>........................] - ETA: 10s - loss: 0.6941 - acc: 0.7148"
          ],
          "name": "stdout"
        },
        {
          "output_type": "stream",
          "text": [
            "284315/284315 [==============================] - 15s 52us/step - loss: 0.7066 - acc: 0.7142 - val_loss: 0.7459 - val_acc: 0.7064\n",
            "Epoch 53/100\n",
            "284315/284315 [==============================] - 15s 52us/step - loss: 0.7066 - acc: 0.7136 - val_loss: 0.7344 - val_acc: 0.7121\n",
            "Epoch 54/100\n",
            " 63104/284315 [=====>........................] - ETA: 10s - loss: 0.7041 - acc: 0.7125"
          ],
          "name": "stdout"
        },
        {
          "output_type": "stream",
          "text": [
            "284315/284315 [==============================] - 15s 52us/step - loss: 0.7066 - acc: 0.7138 - val_loss: 0.7408 - val_acc: 0.7088\n",
            "Epoch 55/100\n",
            "284315/284315 [==============================] - 15s 52us/step - loss: 0.7064 - acc: 0.7139 - val_loss: 0.7346 - val_acc: 0.7112\n",
            "Epoch 56/100\n",
            " 61792/284315 [=====>........................] - ETA: 10s - loss: 0.6945 - acc: 0.7156"
          ],
          "name": "stdout"
        },
        {
          "output_type": "stream",
          "text": [
            "284315/284315 [==============================] - 15s 51us/step - loss: 0.7067 - acc: 0.7135 - val_loss: 0.7364 - val_acc: 0.7055\n",
            "Epoch 57/100\n",
            "284315/284315 [==============================] - 15s 52us/step - loss: 0.7066 - acc: 0.7144 - val_loss: 0.7351 - val_acc: 0.7097\n",
            "Epoch 58/100\n",
            " 62464/284315 [=====>........................] - ETA: 10s - loss: 0.6972 - acc: 0.7130"
          ],
          "name": "stdout"
        },
        {
          "output_type": "stream",
          "text": [
            "284315/284315 [==============================] - 15s 52us/step - loss: 0.7066 - acc: 0.7134 - val_loss: 0.7332 - val_acc: 0.7119\n",
            "Epoch 59/100\n",
            "284315/284315 [==============================] - 15s 52us/step - loss: 0.7066 - acc: 0.7148 - val_loss: 0.7346 - val_acc: 0.7110\n",
            "Epoch 60/100\n",
            " 60640/284315 [=====>........................] - ETA: 10s - loss: 0.6936 - acc: 0.7153"
          ],
          "name": "stdout"
        },
        {
          "output_type": "stream",
          "text": [
            "284315/284315 [==============================] - 15s 52us/step - loss: 0.7064 - acc: 0.7140 - val_loss: 0.7338 - val_acc: 0.7061\n",
            "Epoch 61/100\n",
            "284315/284315 [==============================] - 15s 52us/step - loss: 0.7064 - acc: 0.7140 - val_loss: 0.7380 - val_acc: 0.7115\n",
            "Epoch 62/100\n",
            " 61216/284315 [=====>........................] - ETA: 10s - loss: 0.6703 - acc: 0.7151"
          ],
          "name": "stdout"
        },
        {
          "output_type": "stream",
          "text": [
            "284315/284315 [==============================] - 15s 52us/step - loss: 0.7068 - acc: 0.7136 - val_loss: 0.7396 - val_acc: 0.6948\n",
            "Epoch 63/100\n",
            "284315/284315 [==============================] - 15s 52us/step - loss: 0.7064 - acc: 0.7132 - val_loss: 0.7352 - val_acc: 0.7146\n",
            "Epoch 64/100\n",
            " 60416/284315 [=====>........................] - ETA: 10s - loss: 0.6898 - acc: 0.7173"
          ],
          "name": "stdout"
        },
        {
          "output_type": "stream",
          "text": [
            "284315/284315 [==============================] - 15s 52us/step - loss: 0.7065 - acc: 0.7138 - val_loss: 0.7347 - val_acc: 0.7069\n",
            "Epoch 65/100\n",
            "284315/284315 [==============================] - 15s 52us/step - loss: 0.7067 - acc: 0.7135 - val_loss: 0.7422 - val_acc: 0.7033\n",
            "Epoch 66/100\n",
            " 61728/284315 [=====>........................] - ETA: 10s - loss: 0.7014 - acc: 0.7163"
          ],
          "name": "stdout"
        },
        {
          "output_type": "stream",
          "text": [
            "284315/284315 [==============================] - 15s 52us/step - loss: 0.7062 - acc: 0.7144 - val_loss: 0.7350 - val_acc: 0.7176\n",
            "Epoch 67/100\n",
            "284315/284315 [==============================] - 15s 52us/step - loss: 0.7066 - acc: 0.7142 - val_loss: 0.7349 - val_acc: 0.7122\n",
            "Epoch 68/100\n",
            " 62272/284315 [=====>........................] - ETA: 10s - loss: 0.7048 - acc: 0.7128"
          ],
          "name": "stdout"
        },
        {
          "output_type": "stream",
          "text": [
            "284315/284315 [==============================] - 15s 52us/step - loss: 0.7064 - acc: 0.7142 - val_loss: 0.7334 - val_acc: 0.7170\n",
            "Epoch 69/100\n",
            "284315/284315 [==============================] - 15s 51us/step - loss: 0.7064 - acc: 0.7148 - val_loss: 0.7356 - val_acc: 0.7085\n",
            "Epoch 70/100\n",
            " 62656/284315 [=====>........................] - ETA: 10s - loss: 0.6768 - acc: 0.7133"
          ],
          "name": "stdout"
        },
        {
          "output_type": "stream",
          "text": [
            "284315/284315 [==============================] - 15s 52us/step - loss: 0.7066 - acc: 0.7143 - val_loss: 0.7348 - val_acc: 0.7062\n",
            "Epoch 71/100\n",
            "284315/284315 [==============================] - 15s 52us/step - loss: 0.7066 - acc: 0.7145 - val_loss: 0.7330 - val_acc: 0.7106\n",
            "Epoch 72/100\n",
            " 62560/284315 [=====>........................] - ETA: 10s - loss: 0.6971 - acc: 0.7150"
          ],
          "name": "stdout"
        },
        {
          "output_type": "stream",
          "text": [
            "284315/284315 [==============================] - 15s 52us/step - loss: 0.7065 - acc: 0.7135 - val_loss: 0.7352 - val_acc: 0.7129\n",
            "Epoch 73/100\n",
            "284315/284315 [==============================] - 15s 52us/step - loss: 0.7065 - acc: 0.7135 - val_loss: 0.7340 - val_acc: 0.7106\n",
            "Epoch 74/100\n",
            " 58432/284315 [=====>........................] - ETA: 10s - loss: 0.7091 - acc: 0.7138"
          ],
          "name": "stdout"
        },
        {
          "output_type": "stream",
          "text": [
            "284315/284315 [==============================] - 15s 52us/step - loss: 0.7066 - acc: 0.7139 - val_loss: 0.7378 - val_acc: 0.7038\n",
            "Epoch 75/100\n",
            "284315/284315 [==============================] - 15s 52us/step - loss: 0.7063 - acc: 0.7131 - val_loss: 0.7350 - val_acc: 0.7146\n",
            "Epoch 76/100\n",
            " 60768/284315 [=====>........................] - ETA: 10s - loss: 0.6939 - acc: 0.7165"
          ],
          "name": "stdout"
        },
        {
          "output_type": "stream",
          "text": [
            "284315/284315 [==============================] - 15s 52us/step - loss: 0.7063 - acc: 0.7144 - val_loss: 0.7360 - val_acc: 0.7089\n",
            "Epoch 77/100\n",
            "284315/284315 [==============================] - 15s 52us/step - loss: 0.7063 - acc: 0.7136 - val_loss: 0.7343 - val_acc: 0.7111\n",
            "Epoch 78/100\n",
            " 60480/284315 [=====>........................] - ETA: 10s - loss: 0.6891 - acc: 0.7162"
          ],
          "name": "stdout"
        },
        {
          "output_type": "stream",
          "text": [
            "284315/284315 [==============================] - 15s 52us/step - loss: 0.7066 - acc: 0.7135 - val_loss: 0.7366 - val_acc: 0.6993\n",
            "Epoch 79/100\n",
            "284315/284315 [==============================] - 15s 52us/step - loss: 0.7068 - acc: 0.7142 - val_loss: 0.7334 - val_acc: 0.7164\n",
            "Epoch 80/100\n",
            " 60608/284315 [=====>........................] - ETA: 10s - loss: 0.6901 - acc: 0.7135"
          ],
          "name": "stdout"
        },
        {
          "output_type": "stream",
          "text": [
            "284315/284315 [==============================] - 15s 52us/step - loss: 0.7065 - acc: 0.7129 - val_loss: 0.7354 - val_acc: 0.7087\n",
            "Epoch 81/100\n",
            "284315/284315 [==============================] - 15s 52us/step - loss: 0.7064 - acc: 0.7145 - val_loss: 0.7347 - val_acc: 0.7151\n",
            "Epoch 82/100\n",
            " 61120/284315 [=====>........................] - ETA: 10s - loss: 0.6910 - acc: 0.7140"
          ],
          "name": "stdout"
        },
        {
          "output_type": "stream",
          "text": [
            "284315/284315 [==============================] - 15s 52us/step - loss: 0.7064 - acc: 0.7142 - val_loss: 0.7335 - val_acc: 0.7172\n",
            "Epoch 83/100\n",
            "284315/284315 [==============================] - 15s 52us/step - loss: 0.7064 - acc: 0.7139 - val_loss: 0.7342 - val_acc: 0.7140\n",
            "Epoch 84/100\n",
            " 61376/284315 [=====>........................] - ETA: 10s - loss: 0.7033 - acc: 0.7118"
          ],
          "name": "stdout"
        },
        {
          "output_type": "stream",
          "text": [
            "284315/284315 [==============================] - 15s 52us/step - loss: 0.7063 - acc: 0.7142 - val_loss: 0.7344 - val_acc: 0.7045\n",
            "Epoch 85/100\n",
            "284315/284315 [==============================] - 15s 52us/step - loss: 0.7065 - acc: 0.7142 - val_loss: 0.7442 - val_acc: 0.7032\n",
            "Epoch 86/100\n",
            " 61568/284315 [=====>........................] - ETA: 10s - loss: 0.7039 - acc: 0.7146"
          ],
          "name": "stdout"
        },
        {
          "output_type": "stream",
          "text": [
            "284315/284315 [==============================] - 15s 52us/step - loss: 0.7063 - acc: 0.7141 - val_loss: 0.7361 - val_acc: 0.7138\n",
            "Epoch 87/100\n",
            "284315/284315 [==============================] - 15s 52us/step - loss: 0.7063 - acc: 0.7139 - val_loss: 0.7352 - val_acc: 0.7028\n",
            "Epoch 88/100\n",
            " 58368/284315 [=====>........................] - ETA: 10s - loss: 0.7046 - acc: 0.7140"
          ],
          "name": "stdout"
        },
        {
          "output_type": "stream",
          "text": [
            "284315/284315 [==============================] - 15s 52us/step - loss: 0.7062 - acc: 0.7144 - val_loss: 0.7394 - val_acc: 0.7077\n",
            "Epoch 89/100\n",
            "284315/284315 [==============================] - 15s 52us/step - loss: 0.7063 - acc: 0.7136 - val_loss: 0.7336 - val_acc: 0.7134\n",
            "Epoch 90/100\n",
            " 58048/284315 [=====>........................] - ETA: 10s - loss: 0.6942 - acc: 0.7127"
          ],
          "name": "stdout"
        },
        {
          "output_type": "stream",
          "text": [
            "284315/284315 [==============================] - 15s 52us/step - loss: 0.7066 - acc: 0.7151 - val_loss: 0.7339 - val_acc: 0.7158\n",
            "Epoch 91/100\n",
            "284315/284315 [==============================] - 15s 52us/step - loss: 0.7062 - acc: 0.7145 - val_loss: 0.7330 - val_acc: 0.7036\n",
            "Epoch 92/100\n",
            " 57888/284315 [=====>........................] - ETA: 10s - loss: 0.7159 - acc: 0.7142\b\b\b\b\b\b\b\b\b\b\b\b\b\b\b\b\b\b\b\b\b\b\b\b\b\b\b\b\b\b\b\b\b\b\b\b\b\b\b\b\b\b\b\b\b\b\b\b\b\b\b\b\b\b\b\b\b\b\b\b\b\b\b\b\b\b\b\b\b\b\b\b\b\b\b\b\b\b\b\b\b\b\b\b\b\b"
          ],
          "name": "stdout"
        },
        {
          "output_type": "stream",
          "text": [
            "284315/284315 [==============================] - 15s 52us/step - loss: 0.7062 - acc: 0.7141 - val_loss: 0.7393 - val_acc: 0.7086\n",
            "Epoch 93/100\n",
            "284315/284315 [==============================] - 15s 52us/step - loss: 0.7064 - acc: 0.7146 - val_loss: 0.7328 - val_acc: 0.7112\n",
            "Epoch 94/100\n",
            " 59136/284315 [=====>........................] - ETA: 10s - loss: 0.7065 - acc: 0.7183"
          ],
          "name": "stdout"
        },
        {
          "output_type": "stream",
          "text": [
            "284315/284315 [==============================] - 15s 52us/step - loss: 0.7063 - acc: 0.7145 - val_loss: 0.7339 - val_acc: 0.7135\n",
            "Epoch 95/100\n",
            "284315/284315 [==============================] - 15s 52us/step - loss: 0.7062 - acc: 0.7144 - val_loss: 0.7334 - val_acc: 0.7148\n",
            "Epoch 96/100\n",
            " 59712/284315 [=====>........................] - ETA: 10s - loss: 0.7079 - acc: 0.7139"
          ],
          "name": "stdout"
        },
        {
          "output_type": "stream",
          "text": [
            "284315/284315 [==============================] - 15s 53us/step - loss: 0.7060 - acc: 0.7142 - val_loss: 0.7352 - val_acc: 0.7042\n",
            "Epoch 97/100\n",
            "284315/284315 [==============================] - 15s 52us/step - loss: 0.7062 - acc: 0.7144 - val_loss: 0.7334 - val_acc: 0.7127\n",
            "Epoch 98/100\n",
            " 57856/284315 [=====>........................] - ETA: 10s - loss: 0.7186 - acc: 0.7185"
          ],
          "name": "stdout"
        },
        {
          "output_type": "stream",
          "text": [
            "284315/284315 [==============================] - 15s 52us/step - loss: 0.7065 - acc: 0.7140 - val_loss: 0.7355 - val_acc: 0.7081\n",
            "Epoch 99/100\n",
            "284315/284315 [==============================] - 15s 52us/step - loss: 0.7058 - acc: 0.7148 - val_loss: 0.7342 - val_acc: 0.7076\n",
            "Epoch 100/100\n",
            " 58368/284315 [=====>........................] - ETA: 10s - loss: 0.7119 - acc: 0.7143"
          ],
          "name": "stdout"
        },
        {
          "output_type": "stream",
          "text": [
            "284315/284315 [==============================] - 15s 52us/step - loss: 0.7062 - acc: 0.7143 - val_loss: 0.7343 - val_acc: 0.7070\n"
          ],
          "name": "stdout"
        }
      ]
    },
    {
      "metadata": {
        "id": "mVhL5tbYyyCz",
        "colab_type": "code",
        "colab": {
          "base_uri": "https://localhost:8080/",
          "height": 136
        },
        "outputId": "be10b732-3935-4f62-ed62-621eb223c565"
      },
      "cell_type": "code",
      "source": [
        "from sklearn.metrics import (confusion_matrix, precision_recall_curve, auc,\n",
        "                             roc_curve, recall_score, classification_report, f1_score,\n",
        "                             precision_recall_fscore_support)\n",
        "\n",
        "X_train = data\n",
        "#X_train = X_train[X_train.Class == 0] #we tain the model on normal transaction only \n",
        "y_train = X_train['Class']\n",
        "X_train = X_train.drop(['Class'], axis=1)\n",
        "X_train = X_train.values\n",
        "\n",
        "predictions = autoencoder.predict(X_train)\n",
        "\n",
        "mse = np.mean(np.power(X_train - predictions, 2), axis=1)\n",
        "error_df = pd.DataFrame({'reconstruction_error': mse,\n",
        "                        'true_class': y_train})\n",
        "\n",
        "threshold = 3\n",
        "y_pred = [1 if e > threshold else 0 for e in error_df.reconstruction_error.values]\n",
        "\n",
        "print(classification_report(error_df.true_class,y_pred))\n",
        "\n"
      ],
      "execution_count": 59,
      "outputs": [
        {
          "output_type": "stream",
          "text": [
            "             precision    recall  f1-score   support\n",
            "\n",
            "          0       1.00      0.98      0.99    284315\n",
            "          1       0.06      0.82      0.12       492\n",
            "\n",
            "avg / total       1.00      0.98      0.99    284807\n",
            "\n"
          ],
          "name": "stdout"
        }
      ]
    }
  ]
}